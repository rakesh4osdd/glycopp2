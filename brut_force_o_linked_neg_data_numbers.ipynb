{
 "cells": [
  {
   "cell_type": "code",
   "execution_count": 1,
   "metadata": {},
   "outputs": [],
   "source": [
    "# grep -nf o_linked_train_neg1.mot ../o_linked_train.mot|cut -f1 -d':'"
   ]
  },
  {
   "cell_type": "code",
   "execution_count": 3,
   "metadata": {},
   "outputs": [],
   "source": [
    "import random\n",
    "import matplotlib.pyplot as plt"
   ]
  },
  {
   "cell_type": "code",
   "execution_count": 39,
   "metadata": {
    "scrolled": false
   },
   "outputs": [
    {
     "name": "stdout",
     "output_type": "stream",
     "text": [
      "5069\n",
      "    289 o_linked_train_neg100.mot\n",
      "    289 o_linked_train_neg101.mot\n",
      "    289 o_linked_train_neg102.mot\n",
      "    289 o_linked_train_neg103.mot\n",
      "    289 o_linked_train_neg104.mot\n",
      "    289 o_linked_train_neg105.mot\n",
      "    289 o_linked_train_neg106.mot\n",
      "    289 o_linked_train_neg107.mot\n",
      "    289 o_linked_train_neg108.mot\n",
      "    289 o_linked_train_neg109.mot\n",
      "    289 o_linked_train_neg10.mot\n",
      "    289 o_linked_train_neg110.mot\n",
      "    289 o_linked_train_neg111.mot\n",
      "    289 o_linked_train_neg112.mot\n",
      "    289 o_linked_train_neg113.mot\n",
      "    289 o_linked_train_neg114.mot\n",
      "    289 o_linked_train_neg115.mot\n",
      "    289 o_linked_train_neg116.mot\n",
      "    289 o_linked_train_neg117.mot\n",
      "    289 o_linked_train_neg118.mot\n",
      "    289 o_linked_train_neg119.mot\n",
      "    289 o_linked_train_neg11.mot\n",
      "    289 o_linked_train_neg120.mot\n",
      "    289 o_linked_train_neg121.mot\n",
      "    289 o_linked_train_neg122.mot\n",
      "    289 o_linked_train_neg123.mot\n",
      "    289 o_linked_train_neg124.mot\n",
      "    289 o_linked_train_neg125.mot\n",
      "    289 o_linked_train_neg126.mot\n",
      "    289 o_linked_train_neg127.mot\n",
      "    289 o_linked_train_neg128.mot\n",
      "    289 o_linked_train_neg12.mot\n",
      "    289 o_linked_train_neg13.mot\n",
      "    289 o_linked_train_neg14.mot\n",
      "    289 o_linked_train_neg15.mot\n",
      "    289 o_linked_train_neg16.mot\n",
      "    289 o_linked_train_neg17.mot\n",
      "    289 o_linked_train_neg18.mot\n",
      "    289 o_linked_train_neg19.mot\n",
      "    289 o_linked_train_neg1.mot\n",
      "    289 o_linked_train_neg20.mot\n",
      "    289 o_linked_train_neg21.mot\n",
      "    289 o_linked_train_neg22.mot\n",
      "    289 o_linked_train_neg23.mot\n",
      "    289 o_linked_train_neg24.mot\n",
      "    289 o_linked_train_neg25.mot\n",
      "    289 o_linked_train_neg26.mot\n",
      "    289 o_linked_train_neg27.mot\n",
      "    289 o_linked_train_neg28.mot\n",
      "    289 o_linked_train_neg29.mot\n",
      "    289 o_linked_train_neg2.mot\n",
      "    289 o_linked_train_neg30.mot\n",
      "    289 o_linked_train_neg31.mot\n",
      "    289 o_linked_train_neg32.mot\n",
      "    289 o_linked_train_neg33.mot\n",
      "    289 o_linked_train_neg34.mot\n",
      "    289 o_linked_train_neg35.mot\n",
      "    289 o_linked_train_neg36.mot\n",
      "    289 o_linked_train_neg37.mot\n",
      "    289 o_linked_train_neg38.mot\n",
      "    289 o_linked_train_neg39.mot\n",
      "    289 o_linked_train_neg3.mot\n",
      "    289 o_linked_train_neg40.mot\n",
      "    289 o_linked_train_neg41.mot\n",
      "    289 o_linked_train_neg42.mot\n",
      "    289 o_linked_train_neg43.mot\n",
      "    289 o_linked_train_neg44.mot\n",
      "    289 o_linked_train_neg45.mot\n",
      "    289 o_linked_train_neg46.mot\n",
      "    289 o_linked_train_neg47.mot\n",
      "    289 o_linked_train_neg48.mot\n",
      "    289 o_linked_train_neg49.mot\n",
      "    289 o_linked_train_neg4.mot\n",
      "    289 o_linked_train_neg50.mot\n",
      "    289 o_linked_train_neg51.mot\n",
      "    289 o_linked_train_neg52.mot\n",
      "    289 o_linked_train_neg53.mot\n",
      "    289 o_linked_train_neg54.mot\n",
      "    289 o_linked_train_neg55.mot\n",
      "    289 o_linked_train_neg56.mot\n",
      "    289 o_linked_train_neg57.mot\n",
      "    289 o_linked_train_neg58.mot\n",
      "    289 o_linked_train_neg59.mot\n",
      "    289 o_linked_train_neg5.mot\n",
      "    289 o_linked_train_neg60.mot\n",
      "    289 o_linked_train_neg61.mot\n",
      "    289 o_linked_train_neg62.mot\n",
      "    289 o_linked_train_neg63.mot\n",
      "    289 o_linked_train_neg64.mot\n",
      "    289 o_linked_train_neg65.mot\n",
      "    289 o_linked_train_neg66.mot\n",
      "    289 o_linked_train_neg67.mot\n",
      "    289 o_linked_train_neg68.mot\n",
      "    289 o_linked_train_neg69.mot\n",
      "    289 o_linked_train_neg6.mot\n",
      "    289 o_linked_train_neg70.mot\n",
      "    289 o_linked_train_neg71.mot\n",
      "    289 o_linked_train_neg72.mot\n",
      "    289 o_linked_train_neg73.mot\n",
      "    289 o_linked_train_neg74.mot\n",
      "    289 o_linked_train_neg75.mot\n",
      "    289 o_linked_train_neg76.mot\n",
      "    289 o_linked_train_neg77.mot\n",
      "    289 o_linked_train_neg78.mot\n",
      "    289 o_linked_train_neg79.mot\n",
      "    289 o_linked_train_neg7.mot\n",
      "    289 o_linked_train_neg80.mot\n",
      "    289 o_linked_train_neg81.mot\n",
      "    289 o_linked_train_neg82.mot\n",
      "    289 o_linked_train_neg83.mot\n",
      "    289 o_linked_train_neg84.mot\n",
      "    289 o_linked_train_neg85.mot\n",
      "    289 o_linked_train_neg86.mot\n",
      "    289 o_linked_train_neg87.mot\n",
      "    289 o_linked_train_neg88.mot\n",
      "    289 o_linked_train_neg89.mot\n",
      "    289 o_linked_train_neg8.mot\n",
      "    289 o_linked_train_neg90.mot\n",
      "    289 o_linked_train_neg91.mot\n",
      "    289 o_linked_train_neg92.mot\n",
      "    289 o_linked_train_neg93.mot\n",
      "    289 o_linked_train_neg94.mot\n",
      "    289 o_linked_train_neg95.mot\n",
      "    289 o_linked_train_neg96.mot\n",
      "    289 o_linked_train_neg97.mot\n",
      "    289 o_linked_train_neg98.mot\n",
      "    289 o_linked_train_neg99.mot\n",
      "    289 o_linked_train_neg9.mot\n",
      "    290 o_linked_train_neg.csv\n",
      "    289 o_linked_train_neg.mot\n",
      "    289 o_linked_train_neg.tsv\n",
      "  37860 total\n"
     ]
    }
   ],
   "source": [
    "# read file in array and  create new files using random lines\n",
    "#file=open('o_linked_train.tsv','r')\n",
    "file=open('o_linked_train.mot','r')\n",
    "lines=[]\n",
    "for line in file:\n",
    "    lines.append(line)\n",
    "print(len(lines))  \n",
    "out='o_linked_train_neg'\n",
    "count=0\n",
    "liner=[]\n",
    "repeat=1024\n",
    "randpoint2=[]\n",
    "for num in range(1,repeat*289+1):\n",
    "    #print(num)\n",
    "    line=random.choice(lines)\n",
    "    #print(lines.index(line))\n",
    "    randpoint2.append(lines.index(line))\n",
    "    liner.append(line)\n",
    "    #lines.remove(line) # skip for brutforce\n",
    "    #print (num)\n",
    "    if (num)%289 == 0:\n",
    "        count=count+1\n",
    "        #print(num, count,len(lines), out+str(count)+'.mot', len(liner),line,'\\n')\n",
    "        with open(out+str(count)+'.mot','w') as motif:\n",
    "            for row in liner:        \n",
    "                motif.write(row)\n",
    "                #pass\n",
    "                #print (row)\n",
    "            #np.savetxt(motif,row)\n",
    "            \n",
    "        motif.close()  \n",
    "        liner.clear()\n",
    "!wc -l {out}*"
   ]
  },
  {
   "cell_type": "code",
   "execution_count": 26,
   "metadata": {},
   "outputs": [
    {
     "data": {
      "text/plain": [
       "578"
      ]
     },
     "execution_count": 26,
     "metadata": {},
     "output_type": "execute_result"
    }
   ],
   "source": [
    "len(randpoint)"
   ]
  },
  {
   "cell_type": "code",
   "execution_count": 38,
   "metadata": {},
   "outputs": [
    {
     "data": {
      "text/plain": [
       "[<matplotlib.lines.Line2D at 0x7f3ae487e430>]"
      ]
     },
     "execution_count": 38,
     "metadata": {},
     "output_type": "execute_result"
    },
    {
     "data": {
      "image/png": "[encoded data removed]",
      "text/plain": [
       "<Figure size 432x288 with 1 Axes>"
      ]
     },
     "metadata": {
      "needs_background": "light"
     },
     "output_type": "display_data"
    }
   ],
   "source": [
    "plt.plot(randpoint, linestyle='', marker='o', color='b')"
   ]
  },
  {
   "cell_type": "code",
   "execution_count": 23,
   "metadata": {},
   "outputs": [],
   "source": [
    "#plt.bar(randpoint,randpoint)"
   ]
  },
  {
   "cell_type": "code",
   "execution_count": 43,
   "metadata": {},
   "outputs": [
    {
     "data": {
      "text/plain": [
       "[<matplotlib.lines.Line2D at 0x7f3ae2477820>]"
      ]
     },
     "execution_count": 43,
     "metadata": {},
     "output_type": "execute_result"
    },
    {
     "data": {
      "image/png": "[encoded data removed]",
      "text/plain": [
       "<Figure size 432x288 with 1 Axes>"
      ]
     },
     "metadata": {
      "needs_background": "light"
     },
     "output_type": "display_data"
    }
   ],
   "source": [
    "plt.plot(randpoint[1:289], linestyle='', marker='o', color='b')"
   ]
  },
  {
   "cell_type": "code",
   "execution_count": null,
   "metadata": {},
   "outputs": [],
   "source": []
  }
 ],
 "metadata": {
  "kernelspec": {
   "display_name": "Python 3",
   "language": "python",
   "name": "python3"
  },
  "language_info": {
   "codemirror_mode": {
    "name": "ipython",
    "version": 3
   },
   "file_extension": ".py",
   "mimetype": "text/x-python",
   "name": "python",
   "nbconvert_exporter": "python",
   "pygments_lexer": "ipython3",
   "version": "3.7.3"
  }
 },
 "nbformat": 4,
 "nbformat_minor": 4
}
