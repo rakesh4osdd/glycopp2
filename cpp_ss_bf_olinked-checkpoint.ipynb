{
 "cells": [
  {
   "cell_type": "code",
   "execution_count": 1,
   "metadata": {},
   "outputs": [],
   "source": [
    "# take cpp and ss col2svm input file and run for svm for equal size of 265 to run SVM 128 times"
   ]
  },
  {
   "cell_type": "code",
   "execution_count": 22,
   "metadata": {},
   "outputs": [
    {
     "name": "stdout",
     "output_type": "stream",
     "text": [
      "cpp_ss_bf_olinked.ipynb  pos_train.csv\t     svm_steps.sh\r\n",
      "dump\t\t\t run_brutforce1.log  test_parallel.sh\r\n",
      "get_bf.sh\t\t run_brutforce.log   test_parallel.sh.log\r\n",
      "neg_train.csv\t\t run_brutforce.sh\r\n"
     ]
    }
   ],
   "source": [
    "import random\n",
    "import matplotlib.pyplot as plt\n",
    "!ls "
   ]
  },
  {
   "cell_type": "code",
   "execution_count": 23,
   "metadata": {},
   "outputs": [
    {
     "name": "stdout",
     "output_type": "stream",
     "text": [
      "1202\n",
      "     265 bf_neg_train.csv100.csv\n",
      "     265 bf_neg_train.csv101.csv\n",
      "     265 bf_neg_train.csv102.csv\n",
      "     265 bf_neg_train.csv103.csv\n",
      "     265 bf_neg_train.csv104.csv\n",
      "     265 bf_neg_train.csv105.csv\n",
      "     265 bf_neg_train.csv106.csv\n",
      "     265 bf_neg_train.csv107.csv\n",
      "     265 bf_neg_train.csv108.csv\n",
      "     265 bf_neg_train.csv109.csv\n",
      "     265 bf_neg_train.csv10.csv\n",
      "     265 bf_neg_train.csv110.csv\n",
      "     265 bf_neg_train.csv111.csv\n",
      "     265 bf_neg_train.csv112.csv\n",
      "     265 bf_neg_train.csv113.csv\n",
      "     265 bf_neg_train.csv114.csv\n",
      "     265 bf_neg_train.csv115.csv\n",
      "     265 bf_neg_train.csv116.csv\n",
      "     265 bf_neg_train.csv117.csv\n",
      "     265 bf_neg_train.csv118.csv\n",
      "     265 bf_neg_train.csv119.csv\n",
      "     265 bf_neg_train.csv11.csv\n",
      "     265 bf_neg_train.csv120.csv\n",
      "     265 bf_neg_train.csv121.csv\n",
      "     265 bf_neg_train.csv122.csv\n",
      "     265 bf_neg_train.csv123.csv\n",
      "     265 bf_neg_train.csv124.csv\n",
      "     265 bf_neg_train.csv125.csv\n",
      "     265 bf_neg_train.csv126.csv\n",
      "     265 bf_neg_train.csv127.csv\n",
      "     265 bf_neg_train.csv128.csv\n",
      "     265 bf_neg_train.csv12.csv\n",
      "     265 bf_neg_train.csv13.csv\n",
      "     265 bf_neg_train.csv14.csv\n",
      "     265 bf_neg_train.csv15.csv\n",
      "     265 bf_neg_train.csv16.csv\n",
      "     265 bf_neg_train.csv17.csv\n",
      "     265 bf_neg_train.csv18.csv\n",
      "     265 bf_neg_train.csv19.csv\n",
      "     265 bf_neg_train.csv1.csv\n",
      "     265 bf_neg_train.csv20.csv\n",
      "     265 bf_neg_train.csv21.csv\n",
      "     265 bf_neg_train.csv22.csv\n",
      "     265 bf_neg_train.csv23.csv\n",
      "     265 bf_neg_train.csv24.csv\n",
      "     265 bf_neg_train.csv25.csv\n",
      "     265 bf_neg_train.csv26.csv\n",
      "     265 bf_neg_train.csv27.csv\n",
      "     265 bf_neg_train.csv28.csv\n",
      "     265 bf_neg_train.csv29.csv\n",
      "     265 bf_neg_train.csv2.csv\n",
      "     265 bf_neg_train.csv30.csv\n",
      "     265 bf_neg_train.csv31.csv\n",
      "     265 bf_neg_train.csv32.csv\n",
      "     265 bf_neg_train.csv33.csv\n",
      "     265 bf_neg_train.csv34.csv\n",
      "     265 bf_neg_train.csv35.csv\n",
      "     265 bf_neg_train.csv36.csv\n",
      "     265 bf_neg_train.csv37.csv\n",
      "     265 bf_neg_train.csv38.csv\n",
      "     265 bf_neg_train.csv39.csv\n",
      "     265 bf_neg_train.csv3.csv\n",
      "     265 bf_neg_train.csv40.csv\n",
      "     265 bf_neg_train.csv41.csv\n",
      "     265 bf_neg_train.csv42.csv\n",
      "     265 bf_neg_train.csv43.csv\n",
      "     265 bf_neg_train.csv44.csv\n",
      "     265 bf_neg_train.csv45.csv\n",
      "     265 bf_neg_train.csv46.csv\n",
      "     265 bf_neg_train.csv47.csv\n",
      "     265 bf_neg_train.csv48.csv\n",
      "     265 bf_neg_train.csv49.csv\n",
      "     265 bf_neg_train.csv4.csv\n",
      "     265 bf_neg_train.csv50.csv\n",
      "     265 bf_neg_train.csv51.csv\n",
      "     265 bf_neg_train.csv52.csv\n",
      "     265 bf_neg_train.csv53.csv\n",
      "     265 bf_neg_train.csv54.csv\n",
      "     265 bf_neg_train.csv55.csv\n",
      "     265 bf_neg_train.csv56.csv\n",
      "     265 bf_neg_train.csv57.csv\n",
      "     265 bf_neg_train.csv58.csv\n",
      "     265 bf_neg_train.csv59.csv\n",
      "     265 bf_neg_train.csv5.csv\n",
      "     265 bf_neg_train.csv60.csv\n",
      "     265 bf_neg_train.csv61.csv\n",
      "     265 bf_neg_train.csv62.csv\n",
      "     265 bf_neg_train.csv63.csv\n",
      "     265 bf_neg_train.csv64.csv\n",
      "     265 bf_neg_train.csv65.csv\n",
      "     265 bf_neg_train.csv66.csv\n",
      "     265 bf_neg_train.csv67.csv\n",
      "     265 bf_neg_train.csv68.csv\n",
      "     265 bf_neg_train.csv69.csv\n",
      "     265 bf_neg_train.csv6.csv\n",
      "     265 bf_neg_train.csv70.csv\n",
      "     265 bf_neg_train.csv71.csv\n",
      "     265 bf_neg_train.csv72.csv\n",
      "     265 bf_neg_train.csv73.csv\n",
      "     265 bf_neg_train.csv74.csv\n",
      "     265 bf_neg_train.csv75.csv\n",
      "     265 bf_neg_train.csv76.csv\n",
      "     265 bf_neg_train.csv77.csv\n",
      "     265 bf_neg_train.csv78.csv\n",
      "     265 bf_neg_train.csv79.csv\n",
      "     265 bf_neg_train.csv7.csv\n",
      "     265 bf_neg_train.csv80.csv\n",
      "     265 bf_neg_train.csv81.csv\n",
      "     265 bf_neg_train.csv82.csv\n",
      "     265 bf_neg_train.csv83.csv\n",
      "     265 bf_neg_train.csv84.csv\n",
      "     265 bf_neg_train.csv85.csv\n",
      "     265 bf_neg_train.csv86.csv\n",
      "     265 bf_neg_train.csv87.csv\n",
      "     265 bf_neg_train.csv88.csv\n",
      "     265 bf_neg_train.csv89.csv\n",
      "     265 bf_neg_train.csv8.csv\n",
      "     265 bf_neg_train.csv90.csv\n",
      "     265 bf_neg_train.csv91.csv\n",
      "     265 bf_neg_train.csv92.csv\n",
      "     265 bf_neg_train.csv93.csv\n",
      "     265 bf_neg_train.csv94.csv\n",
      "     265 bf_neg_train.csv95.csv\n",
      "     265 bf_neg_train.csv96.csv\n",
      "     265 bf_neg_train.csv97.csv\n",
      "     265 bf_neg_train.csv98.csv\n",
      "     265 bf_neg_train.csv99.csv\n",
      "     265 bf_neg_train.csv9.csv\n",
      "   33920 total\n"
     ]
    }
   ],
   "source": [
    "# read file in array and  create new files using random lines\n",
    "#file=open('n_linked_train.tsv','r')\n",
    "filename='neg_train.csv'\n",
    "# positive dataset number of lines\n",
    "fsize=265\n",
    "\n",
    "file=open(filename,'r')\n",
    "lines=[]\n",
    "\n",
    "#for line in file:\n",
    "#    lines.append(line)\n",
    "    \n",
    "with open(filename,'r') as f:\n",
    "    lines = f.readlines()[1:]\n",
    "print(len(lines))  \n",
    "out=\"bf_\"+filename\n",
    "count=0\n",
    "liner=[]\n",
    "repeat=128\n",
    "randpoint2=[]\n",
    "for num in range(1,repeat*fsize+1):  \n",
    "    #print(num)\n",
    "    line=random.choice(lines)\n",
    "    #print(lines.index(line))\n",
    "    randpoint2.append(lines.index(line))\n",
    "    liner.append(line)\n",
    "    #lines.remove(line) # skip for brutforce\n",
    "    #print (num)\n",
    "    if (num)%fsize == 0:\n",
    "        count=count+1\n",
    "        #print(num, count,len(lines), out+str(count)+'.mot', len(liner),line,'\\n')\n",
    "        with open(out+str(count)+'.csv','w') as motif:\n",
    "            for row in liner:        \n",
    "                motif.write(row)\n",
    "                #pass\n",
    "                #print (row)\n",
    "            #np.savetxt(motif,row)\n",
    "\n",
    "        motif.close()  \n",
    "        liner.clear()\n",
    "!wc -l {out}*"
   ]
  },
  {
   "cell_type": "code",
   "execution_count": 24,
   "metadata": {},
   "outputs": [],
   "source": [
    "!mkdir data ; mv bf_*.csv data"
   ]
  },
  {
   "cell_type": "code",
   "execution_count": 25,
   "metadata": {},
   "outputs": [
    {
     "data": {
      "text/plain": [
       "[<matplotlib.lines.Line2D at 0x7f03a7077310>]"
      ]
     },
     "execution_count": 25,
     "metadata": {},
     "output_type": "execute_result"
    },
    {
     "data": {
      "image/png": "[encoded data removed]",
      "text/plain": [
       "<Figure size 432x288 with 1 Axes>"
      ]
     },
     "metadata": {
      "needs_background": "light"
     },
     "output_type": "display_data"
    }
   ],
   "source": [
    "plt.plot(randpoint2, linestyle='', marker='o', color='b')"
   ]
  },
  {
   "cell_type": "code",
   "execution_count": 26,
   "metadata": {},
   "outputs": [
    {
     "data": {
      "text/plain": [
       "[<matplotlib.lines.Line2D at 0x7f044ce23a90>]"
      ]
     },
     "execution_count": 26,
     "metadata": {},
     "output_type": "execute_result"
    },
    {
     "data": {
      "image/png": "[encoded data removed]",
      "text/plain": [
       "<Figure size 432x288 with 1 Axes>"
      ]
     },
     "metadata": {
      "needs_background": "light"
     },
     "output_type": "display_data"
    }
   ],
   "source": [
    "plt.plot(randpoint2[1:289], linestyle='', marker='o', color='b')"
   ]
  },
  {
   "cell_type": "code",
   "execution_count": null,
   "metadata": {},
   "outputs": [],
   "source": []
  },
  {
   "cell_type": "code",
   "execution_count": null,
   "metadata": {},
   "outputs": [],
   "source": []
  }
 ],
 "metadata": {
  "kernelspec": {
   "display_name": "Python 3",
   "language": "python",
   "name": "python3"
  },
  "language_info": {
   "codemirror_mode": {
    "name": "ipython",
    "version": 3
   },
   "file_extension": ".py",
   "mimetype": "text/x-python",
   "name": "python",
   "nbconvert_exporter": "python",
   "pygments_lexer": "ipython3",
   "version": "3.7.3"
  }
 },
 "nbformat": 4,
 "nbformat_minor": 4
}
