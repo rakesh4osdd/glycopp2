{
 "cells": [
  {
   "cell_type": "code",
   "execution_count": 1,
   "id": "canadian-envelope",
   "metadata": {},
   "outputs": [],
   "source": [
    "#glycopp2_seq.py -i $inputfile -o $output -t $thres -m 1\n",
    "import csv\n",
    "import sys, getopt"
   ]
  },
  {
   "cell_type": "raw",
   "id": "laden-police",
   "metadata": {},
   "source": [
    "def main(argv):\n",
    "   inputfile = ''\n",
    "   outputfile = ''\n",
    "   windowsize = ''\n",
    "   try:\n",
    "      opts, args = getopt.getopt(argv,\"hi:o:w\",[\"ifile=\",\"ofile=\",\"wsize=\"])\n",
    "   except getopt.GetoptError:\n",
    "      print ( sys.argv[0], 'check -i <inputfile> -o <outputfile> -w <windowsize>')\n",
    "      sys.exit(2)\n",
    "   for opt, arg in opts:\n",
    "      if opt == '-h':\n",
    "         print ( sys.argv[0], '-i <inputfile> -o <outputfile> -w <windowsize>')\n",
    "         sys.exit()\n",
    "      elif opt in (\"-i\", \"--ifile\"):\n",
    "         inputfile = arg\n",
    "      elif opt in (\"-o\", \"--ofile\"):\n",
    "         outputfile = arg\n",
    "      elif opt in (\"-w\", \"--wsize\"):\n",
    "         windowsize = arg\n",
    "\n",
    "   #print ('Input file is \"', inputfile)\n",
    "   #print ('Output file is \"', outputfile)\n",
    "   print (windowsize)\n",
    "\n",
    "if __name__ == \"__main__\":\n",
    "   main(sys.argv[1:])\n",
    "\n",
    "#print(sys.argv[0], 'program', sys.argv[1], '-i', sys.argv[2],'inputfile', sys.argv[3], '-o', sys.argv[4], 'outputfile')\n",
    "# define empty list\n",
    "values = []\n",
    "# open file and read the content in a list with strip new line character\n",
    "with open(sys.argv[2], 'r') as filehandle:\n",
    "    values = [current_value.rstrip() for current_value in filehandle.readlines()]\n",
    "#print(values)\n",
    "\n",
    "# get a number of append '0'\n",
    "ws = int(sys.argv[6])\n",
    "size = int((ws-1)/2)\n",
    "#print (size)\n",
    "# add X or 0 in array\n",
    "X = ['0'] * size\n",
    "C = X + values + X\n",
    "#print(C)\n",
    "\n",
    "# write array into csv file with fixed window size\n",
    "with open(sys.argv[4], 'w', newline='') as output_file_name:\n",
    "    writer = csv.writer(output_file_name)\n",
    "    windowsize= int(sys.argv[6]) # make it as command line argument later\n",
    "    min=0\n",
    "    max=min+windowsize\n",
    "    for x in C : \n",
    "        if max <= len(C):\n",
    "            #print(C.index(x))\n",
    "            #print()\n",
    "            writer.writerow (C[min:max])\n",
    "            min=min+1\n",
    "            max=min+windowsize"
   ]
  },
  {
   "cell_type": "code",
   "execution_count": 4,
   "id": "necessary-poison",
   "metadata": {},
   "outputs": [
    {
     "data": {
      "text/plain": [
       "['__add__',\n",
       " '__class__',\n",
       " '__contains__',\n",
       " '__delattr__',\n",
       " '__delitem__',\n",
       " '__dir__',\n",
       " '__doc__',\n",
       " '__eq__',\n",
       " '__format__',\n",
       " '__ge__',\n",
       " '__getattribute__',\n",
       " '__getitem__',\n",
       " '__gt__',\n",
       " '__hash__',\n",
       " '__iadd__',\n",
       " '__imul__',\n",
       " '__init__',\n",
       " '__init_subclass__',\n",
       " '__iter__',\n",
       " '__le__',\n",
       " '__len__',\n",
       " '__lt__',\n",
       " '__mul__',\n",
       " '__ne__',\n",
       " '__new__',\n",
       " '__reduce__',\n",
       " '__reduce_ex__',\n",
       " '__repr__',\n",
       " '__reversed__',\n",
       " '__rmul__',\n",
       " '__setattr__',\n",
       " '__setitem__',\n",
       " '__sizeof__',\n",
       " '__str__',\n",
       " '__subclasshook__',\n",
       " 'append',\n",
       " 'clear',\n",
       " 'copy',\n",
       " 'count',\n",
       " 'extend',\n",
       " 'index',\n",
       " 'insert',\n",
       " 'pop',\n",
       " 'remove',\n",
       " 'reverse',\n",
       " 'sort']"
      ]
     },
     "execution_count": 4,
     "metadata": {},
     "output_type": "execute_result"
    }
   ],
   "source": [
    "(dir(int))"
   ]
  },
  {
   "cell_type": "code",
   "execution_count": 5,
   "id": "wrapped-laugh",
   "metadata": {},
   "outputs": [
    {
     "ename": "NameError",
     "evalue": "name '__pos__' is not defined",
     "output_type": "error",
     "traceback": [
      "\u001b[1;31m---------------------------------------------------------------------------\u001b[0m",
      "\u001b[1;31mNameError\u001b[0m                                 Traceback (most recent call last)",
      "\u001b[1;32m<ipython-input-5-54af408a1cc2>\u001b[0m in \u001b[0;36m<module>\u001b[1;34m\u001b[0m\n\u001b[1;32m----> 1\u001b[1;33m \u001b[0m__pos__\u001b[0m\u001b[1;33m(\u001b[0m\u001b[0mself\u001b[0m\u001b[1;33m)\u001b[0m\u001b[1;33m\u001b[0m\u001b[1;33m\u001b[0m\u001b[0m\n\u001b[0m",
      "\u001b[1;31mNameError\u001b[0m: name '__pos__' is not defined"
     ]
    }
   ],
   "source": [
    "__pos__(self)"
   ]
  },
  {
   "cell_type": "code",
   "execution_count": null,
   "id": "unable-miniature",
   "metadata": {},
   "outputs": [],
   "source": []
  }
 ],
 "metadata": {
  "kernelspec": {
   "display_name": "Python 3",
   "language": "python",
   "name": "python3"
  },
  "language_info": {
   "codemirror_mode": {
    "name": "ipython",
    "version": 3
   },
   "file_extension": ".py",
   "mimetype": "text/x-python",
   "name": "python",
   "nbconvert_exporter": "python",
   "pygments_lexer": "ipython3",
   "version": "3.7.3"
  }
 },
 "nbformat": 4,
 "nbformat_minor": 5
}
